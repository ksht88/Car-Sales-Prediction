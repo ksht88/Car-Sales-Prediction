{
 "cells": [
  {
   "cell_type": "code",
   "execution_count": 1,
   "id": "2e012b96",
   "metadata": {},
   "outputs": [],
   "source": [
    "import os\n",
    "import pandas as pd\n",
    "import numpy as np\n",
    "import matplotlib.pyplot as plt\n",
    "import seaborn as sns"
   ]
  },
  {
   "cell_type": "code",
   "execution_count": 2,
   "id": "80f6ac81",
   "metadata": {},
   "outputs": [],
   "source": [
    "# os.chdir(\"D:\\Training\\Imarticus\\PGA\\PGA20\\nLinearRegression\")"
   ]
  },
  {
   "cell_type": "code",
   "execution_count": 3,
   "id": "fbc61cbf",
   "metadata": {},
   "outputs": [],
   "source": [
    "os.chdir(r\"D:\\Training\\Imarticus\\PGA\\PGA20\\nLinearRegression\")"
   ]
  },
  {
   "cell_type": "code",
   "execution_count": 4,
   "id": "05fed91b",
   "metadata": {},
   "outputs": [
    {
     "data": {
      "text/plain": [
       "['basicStat.xlsx',\n",
       " 'basicStatffgg.csv',\n",
       " 'bd.csv',\n",
       " 'car_done.csv',\n",
       " 'Car_sales.csv',\n",
       " 'Churn_Modelling.csv',\n",
       " 'cr.csv']"
      ]
     },
     "execution_count": 4,
     "metadata": {},
     "output_type": "execute_result"
    }
   ],
   "source": [
    "os.listdir()"
   ]
  },
  {
   "cell_type": "code",
   "execution_count": 5,
   "id": "7ba23fe0",
   "metadata": {},
   "outputs": [],
   "source": [
    "veh=pd.read_csv(\"car_done.csv\")"
   ]
  },
  {
   "cell_type": "code",
   "execution_count": 6,
   "id": "94f79d21",
   "metadata": {},
   "outputs": [
    {
     "data": {
      "text/html": [
       "<div>\n",
       "<style scoped>\n",
       "    .dataframe tbody tr th:only-of-type {\n",
       "        vertical-align: middle;\n",
       "    }\n",
       "\n",
       "    .dataframe tbody tr th {\n",
       "        vertical-align: top;\n",
       "    }\n",
       "\n",
       "    .dataframe thead th {\n",
       "        text-align: right;\n",
       "    }\n",
       "</style>\n",
       "<table border=\"1\" class=\"dataframe\">\n",
       "  <thead>\n",
       "    <tr style=\"text-align: right;\">\n",
       "      <th></th>\n",
       "      <th>Unnamed: 0</th>\n",
       "      <th>Manufacturer</th>\n",
       "      <th>Model</th>\n",
       "      <th>Sales_in_thousands</th>\n",
       "      <th>four_year_resale_value</th>\n",
       "      <th>Vehicle_type</th>\n",
       "      <th>Price_in_thousands</th>\n",
       "      <th>Engine_size</th>\n",
       "      <th>Horsepower</th>\n",
       "      <th>Wheelbase</th>\n",
       "      <th>Width</th>\n",
       "      <th>Length</th>\n",
       "      <th>Curb weight</th>\n",
       "      <th>Fuel_capacity</th>\n",
       "      <th>Fuel_efficiency</th>\n",
       "      <th>Latest_Launch</th>\n",
       "      <th>Power_perf_factor</th>\n",
       "    </tr>\n",
       "  </thead>\n",
       "  <tbody>\n",
       "    <tr>\n",
       "      <th>0</th>\n",
       "      <td>0</td>\n",
       "      <td>Acura</td>\n",
       "      <td>Integra</td>\n",
       "      <td>16.919</td>\n",
       "      <td>16.360</td>\n",
       "      <td>Passenger</td>\n",
       "      <td>21.50</td>\n",
       "      <td>1.8</td>\n",
       "      <td>140.0</td>\n",
       "      <td>101.2</td>\n",
       "      <td>67.3</td>\n",
       "      <td>172.4</td>\n",
       "      <td>2.639</td>\n",
       "      <td>13.2</td>\n",
       "      <td>28.0</td>\n",
       "      <td>02-02-2012</td>\n",
       "      <td>58.280150</td>\n",
       "    </tr>\n",
       "    <tr>\n",
       "      <th>1</th>\n",
       "      <td>1</td>\n",
       "      <td>Acura</td>\n",
       "      <td>TL</td>\n",
       "      <td>39.384</td>\n",
       "      <td>19.875</td>\n",
       "      <td>Passenger</td>\n",
       "      <td>28.40</td>\n",
       "      <td>3.2</td>\n",
       "      <td>225.0</td>\n",
       "      <td>108.1</td>\n",
       "      <td>70.3</td>\n",
       "      <td>192.9</td>\n",
       "      <td>3.517</td>\n",
       "      <td>17.2</td>\n",
       "      <td>25.0</td>\n",
       "      <td>06-03-2011</td>\n",
       "      <td>91.370778</td>\n",
       "    </tr>\n",
       "    <tr>\n",
       "      <th>2</th>\n",
       "      <td>2</td>\n",
       "      <td>Acura</td>\n",
       "      <td>CL</td>\n",
       "      <td>14.114</td>\n",
       "      <td>18.225</td>\n",
       "      <td>Passenger</td>\n",
       "      <td>NaN</td>\n",
       "      <td>3.2</td>\n",
       "      <td>225.0</td>\n",
       "      <td>106.9</td>\n",
       "      <td>70.6</td>\n",
       "      <td>192.0</td>\n",
       "      <td>3.470</td>\n",
       "      <td>17.2</td>\n",
       "      <td>26.0</td>\n",
       "      <td>01-04-2012</td>\n",
       "      <td>NaN</td>\n",
       "    </tr>\n",
       "    <tr>\n",
       "      <th>3</th>\n",
       "      <td>3</td>\n",
       "      <td>Acura</td>\n",
       "      <td>RL</td>\n",
       "      <td>8.588</td>\n",
       "      <td>29.725</td>\n",
       "      <td>Passenger</td>\n",
       "      <td>42.00</td>\n",
       "      <td>3.5</td>\n",
       "      <td>210.0</td>\n",
       "      <td>114.6</td>\n",
       "      <td>71.4</td>\n",
       "      <td>196.6</td>\n",
       "      <td>3.850</td>\n",
       "      <td>18.0</td>\n",
       "      <td>22.0</td>\n",
       "      <td>03-10-2011</td>\n",
       "      <td>91.389779</td>\n",
       "    </tr>\n",
       "    <tr>\n",
       "      <th>4</th>\n",
       "      <td>4</td>\n",
       "      <td>Audi</td>\n",
       "      <td>A4</td>\n",
       "      <td>20.397</td>\n",
       "      <td>22.255</td>\n",
       "      <td>Passenger</td>\n",
       "      <td>23.99</td>\n",
       "      <td>1.8</td>\n",
       "      <td>150.0</td>\n",
       "      <td>102.6</td>\n",
       "      <td>68.2</td>\n",
       "      <td>178.0</td>\n",
       "      <td>2.998</td>\n",
       "      <td>16.4</td>\n",
       "      <td>27.0</td>\n",
       "      <td>10-08-2011</td>\n",
       "      <td>62.777639</td>\n",
       "    </tr>\n",
       "    <tr>\n",
       "      <th>...</th>\n",
       "      <td>...</td>\n",
       "      <td>...</td>\n",
       "      <td>...</td>\n",
       "      <td>...</td>\n",
       "      <td>...</td>\n",
       "      <td>...</td>\n",
       "      <td>...</td>\n",
       "      <td>...</td>\n",
       "      <td>...</td>\n",
       "      <td>...</td>\n",
       "      <td>...</td>\n",
       "      <td>...</td>\n",
       "      <td>...</td>\n",
       "      <td>...</td>\n",
       "      <td>...</td>\n",
       "      <td>...</td>\n",
       "      <td>...</td>\n",
       "    </tr>\n",
       "    <tr>\n",
       "      <th>152</th>\n",
       "      <td>152</td>\n",
       "      <td>Volvo</td>\n",
       "      <td>V40</td>\n",
       "      <td>3.545</td>\n",
       "      <td>NaN</td>\n",
       "      <td>Passenger</td>\n",
       "      <td>24.40</td>\n",
       "      <td>1.9</td>\n",
       "      <td>160.0</td>\n",
       "      <td>100.5</td>\n",
       "      <td>67.6</td>\n",
       "      <td>176.6</td>\n",
       "      <td>3.042</td>\n",
       "      <td>15.8</td>\n",
       "      <td>25.0</td>\n",
       "      <td>9/21/2011</td>\n",
       "      <td>66.498812</td>\n",
       "    </tr>\n",
       "    <tr>\n",
       "      <th>153</th>\n",
       "      <td>153</td>\n",
       "      <td>Volvo</td>\n",
       "      <td>S70</td>\n",
       "      <td>15.245</td>\n",
       "      <td>NaN</td>\n",
       "      <td>Passenger</td>\n",
       "      <td>27.50</td>\n",
       "      <td>2.4</td>\n",
       "      <td>168.0</td>\n",
       "      <td>104.9</td>\n",
       "      <td>69.3</td>\n",
       "      <td>185.9</td>\n",
       "      <td>3.208</td>\n",
       "      <td>17.9</td>\n",
       "      <td>25.0</td>\n",
       "      <td>11/24/2012</td>\n",
       "      <td>70.654495</td>\n",
       "    </tr>\n",
       "    <tr>\n",
       "      <th>154</th>\n",
       "      <td>154</td>\n",
       "      <td>Volvo</td>\n",
       "      <td>V70</td>\n",
       "      <td>17.531</td>\n",
       "      <td>NaN</td>\n",
       "      <td>Passenger</td>\n",
       "      <td>28.80</td>\n",
       "      <td>2.4</td>\n",
       "      <td>168.0</td>\n",
       "      <td>104.9</td>\n",
       "      <td>69.3</td>\n",
       "      <td>186.2</td>\n",
       "      <td>3.259</td>\n",
       "      <td>17.9</td>\n",
       "      <td>25.0</td>\n",
       "      <td>6/25/2011</td>\n",
       "      <td>71.155978</td>\n",
       "    </tr>\n",
       "    <tr>\n",
       "      <th>155</th>\n",
       "      <td>155</td>\n",
       "      <td>Volvo</td>\n",
       "      <td>C70</td>\n",
       "      <td>3.493</td>\n",
       "      <td>NaN</td>\n",
       "      <td>Passenger</td>\n",
       "      <td>45.50</td>\n",
       "      <td>2.3</td>\n",
       "      <td>236.0</td>\n",
       "      <td>104.9</td>\n",
       "      <td>71.5</td>\n",
       "      <td>185.7</td>\n",
       "      <td>3.601</td>\n",
       "      <td>18.5</td>\n",
       "      <td>23.0</td>\n",
       "      <td>4/26/2011</td>\n",
       "      <td>101.623357</td>\n",
       "    </tr>\n",
       "    <tr>\n",
       "      <th>156</th>\n",
       "      <td>156</td>\n",
       "      <td>Volvo</td>\n",
       "      <td>S80</td>\n",
       "      <td>18.969</td>\n",
       "      <td>NaN</td>\n",
       "      <td>Passenger</td>\n",
       "      <td>36.00</td>\n",
       "      <td>2.9</td>\n",
       "      <td>201.0</td>\n",
       "      <td>109.9</td>\n",
       "      <td>72.1</td>\n",
       "      <td>189.8</td>\n",
       "      <td>3.600</td>\n",
       "      <td>21.1</td>\n",
       "      <td>24.0</td>\n",
       "      <td>11/14/2011</td>\n",
       "      <td>85.735655</td>\n",
       "    </tr>\n",
       "  </tbody>\n",
       "</table>\n",
       "<p>157 rows × 17 columns</p>\n",
       "</div>"
      ],
      "text/plain": [
       "     Unnamed: 0 Manufacturer    Model  Sales_in_thousands  \\\n",
       "0             0        Acura  Integra              16.919   \n",
       "1             1        Acura       TL              39.384   \n",
       "2             2        Acura       CL              14.114   \n",
       "3             3        Acura       RL               8.588   \n",
       "4             4         Audi       A4              20.397   \n",
       "..          ...          ...      ...                 ...   \n",
       "152         152        Volvo      V40               3.545   \n",
       "153         153        Volvo      S70              15.245   \n",
       "154         154        Volvo      V70              17.531   \n",
       "155         155        Volvo      C70               3.493   \n",
       "156         156        Volvo      S80              18.969   \n",
       "\n",
       "     four_year_resale_value Vehicle_type  Price_in_thousands  Engine_size  \\\n",
       "0                    16.360    Passenger               21.50          1.8   \n",
       "1                    19.875    Passenger               28.40          3.2   \n",
       "2                    18.225    Passenger                 NaN          3.2   \n",
       "3                    29.725    Passenger               42.00          3.5   \n",
       "4                    22.255    Passenger               23.99          1.8   \n",
       "..                      ...          ...                 ...          ...   \n",
       "152                     NaN    Passenger               24.40          1.9   \n",
       "153                     NaN    Passenger               27.50          2.4   \n",
       "154                     NaN    Passenger               28.80          2.4   \n",
       "155                     NaN    Passenger               45.50          2.3   \n",
       "156                     NaN    Passenger               36.00          2.9   \n",
       "\n",
       "     Horsepower  Wheelbase  Width  Length  Curb weight  Fuel_capacity  \\\n",
       "0         140.0      101.2   67.3   172.4        2.639           13.2   \n",
       "1         225.0      108.1   70.3   192.9        3.517           17.2   \n",
       "2         225.0      106.9   70.6   192.0        3.470           17.2   \n",
       "3         210.0      114.6   71.4   196.6        3.850           18.0   \n",
       "4         150.0      102.6   68.2   178.0        2.998           16.4   \n",
       "..          ...        ...    ...     ...          ...            ...   \n",
       "152       160.0      100.5   67.6   176.6        3.042           15.8   \n",
       "153       168.0      104.9   69.3   185.9        3.208           17.9   \n",
       "154       168.0      104.9   69.3   186.2        3.259           17.9   \n",
       "155       236.0      104.9   71.5   185.7        3.601           18.5   \n",
       "156       201.0      109.9   72.1   189.8        3.600           21.1   \n",
       "\n",
       "     Fuel_efficiency Latest_Launch  Power_perf_factor  \n",
       "0               28.0    02-02-2012          58.280150  \n",
       "1               25.0    06-03-2011          91.370778  \n",
       "2               26.0    01-04-2012                NaN  \n",
       "3               22.0    03-10-2011          91.389779  \n",
       "4               27.0    10-08-2011          62.777639  \n",
       "..               ...           ...                ...  \n",
       "152             25.0     9/21/2011          66.498812  \n",
       "153             25.0    11/24/2012          70.654495  \n",
       "154             25.0     6/25/2011          71.155978  \n",
       "155             23.0     4/26/2011         101.623357  \n",
       "156             24.0    11/14/2011          85.735655  \n",
       "\n",
       "[157 rows x 17 columns]"
      ]
     },
     "execution_count": 6,
     "metadata": {},
     "output_type": "execute_result"
    }
   ],
   "source": [
    "veh"
   ]
  },
  {
   "cell_type": "code",
   "execution_count": 7,
   "id": "beacc143",
   "metadata": {},
   "outputs": [
    {
     "data": {
      "text/html": [
       "<div>\n",
       "<style scoped>\n",
       "    .dataframe tbody tr th:only-of-type {\n",
       "        vertical-align: middle;\n",
       "    }\n",
       "\n",
       "    .dataframe tbody tr th {\n",
       "        vertical-align: top;\n",
       "    }\n",
       "\n",
       "    .dataframe thead th {\n",
       "        text-align: right;\n",
       "    }\n",
       "</style>\n",
       "<table border=\"1\" class=\"dataframe\">\n",
       "  <thead>\n",
       "    <tr style=\"text-align: right;\">\n",
       "      <th></th>\n",
       "      <th>Unnamed: 0</th>\n",
       "      <th>Manufacturer</th>\n",
       "      <th>Model</th>\n",
       "      <th>Sales_in_thousands</th>\n",
       "      <th>four_year_resale_value</th>\n",
       "      <th>Vehicle_type</th>\n",
       "      <th>Price_in_thousands</th>\n",
       "      <th>Engine_size</th>\n",
       "      <th>Horsepower</th>\n",
       "      <th>Wheelbase</th>\n",
       "      <th>Width</th>\n",
       "      <th>Length</th>\n",
       "      <th>Curb weight</th>\n",
       "      <th>Fuel_capacity</th>\n",
       "      <th>Fuel_efficiency</th>\n",
       "      <th>Latest_Launch</th>\n",
       "      <th>Power_perf_factor</th>\n",
       "    </tr>\n",
       "  </thead>\n",
       "  <tbody>\n",
       "    <tr>\n",
       "      <th>0</th>\n",
       "      <td>0</td>\n",
       "      <td>Acura</td>\n",
       "      <td>Integra</td>\n",
       "      <td>16.919</td>\n",
       "      <td>16.360</td>\n",
       "      <td>Passenger</td>\n",
       "      <td>21.50</td>\n",
       "      <td>1.8</td>\n",
       "      <td>140.0</td>\n",
       "      <td>101.2</td>\n",
       "      <td>67.3</td>\n",
       "      <td>172.4</td>\n",
       "      <td>2.639</td>\n",
       "      <td>13.2</td>\n",
       "      <td>28.0</td>\n",
       "      <td>02-02-2012</td>\n",
       "      <td>58.280150</td>\n",
       "    </tr>\n",
       "    <tr>\n",
       "      <th>1</th>\n",
       "      <td>1</td>\n",
       "      <td>Acura</td>\n",
       "      <td>TL</td>\n",
       "      <td>39.384</td>\n",
       "      <td>19.875</td>\n",
       "      <td>Passenger</td>\n",
       "      <td>28.40</td>\n",
       "      <td>3.2</td>\n",
       "      <td>225.0</td>\n",
       "      <td>108.1</td>\n",
       "      <td>70.3</td>\n",
       "      <td>192.9</td>\n",
       "      <td>3.517</td>\n",
       "      <td>17.2</td>\n",
       "      <td>25.0</td>\n",
       "      <td>06-03-2011</td>\n",
       "      <td>91.370778</td>\n",
       "    </tr>\n",
       "    <tr>\n",
       "      <th>2</th>\n",
       "      <td>2</td>\n",
       "      <td>Acura</td>\n",
       "      <td>CL</td>\n",
       "      <td>14.114</td>\n",
       "      <td>18.225</td>\n",
       "      <td>Passenger</td>\n",
       "      <td>NaN</td>\n",
       "      <td>3.2</td>\n",
       "      <td>225.0</td>\n",
       "      <td>106.9</td>\n",
       "      <td>70.6</td>\n",
       "      <td>192.0</td>\n",
       "      <td>3.470</td>\n",
       "      <td>17.2</td>\n",
       "      <td>26.0</td>\n",
       "      <td>01-04-2012</td>\n",
       "      <td>NaN</td>\n",
       "    </tr>\n",
       "    <tr>\n",
       "      <th>3</th>\n",
       "      <td>3</td>\n",
       "      <td>Acura</td>\n",
       "      <td>RL</td>\n",
       "      <td>8.588</td>\n",
       "      <td>29.725</td>\n",
       "      <td>Passenger</td>\n",
       "      <td>42.00</td>\n",
       "      <td>3.5</td>\n",
       "      <td>210.0</td>\n",
       "      <td>114.6</td>\n",
       "      <td>71.4</td>\n",
       "      <td>196.6</td>\n",
       "      <td>3.850</td>\n",
       "      <td>18.0</td>\n",
       "      <td>22.0</td>\n",
       "      <td>03-10-2011</td>\n",
       "      <td>91.389779</td>\n",
       "    </tr>\n",
       "    <tr>\n",
       "      <th>4</th>\n",
       "      <td>4</td>\n",
       "      <td>Audi</td>\n",
       "      <td>A4</td>\n",
       "      <td>20.397</td>\n",
       "      <td>22.255</td>\n",
       "      <td>Passenger</td>\n",
       "      <td>23.99</td>\n",
       "      <td>1.8</td>\n",
       "      <td>150.0</td>\n",
       "      <td>102.6</td>\n",
       "      <td>68.2</td>\n",
       "      <td>178.0</td>\n",
       "      <td>2.998</td>\n",
       "      <td>16.4</td>\n",
       "      <td>27.0</td>\n",
       "      <td>10-08-2011</td>\n",
       "      <td>62.777639</td>\n",
       "    </tr>\n",
       "    <tr>\n",
       "      <th>5</th>\n",
       "      <td>5</td>\n",
       "      <td>Audi</td>\n",
       "      <td>A6</td>\n",
       "      <td>18.780</td>\n",
       "      <td>23.555</td>\n",
       "      <td>Passenger</td>\n",
       "      <td>33.95</td>\n",
       "      <td>2.8</td>\n",
       "      <td>200.0</td>\n",
       "      <td>108.7</td>\n",
       "      <td>76.1</td>\n",
       "      <td>192.0</td>\n",
       "      <td>3.561</td>\n",
       "      <td>18.5</td>\n",
       "      <td>22.0</td>\n",
       "      <td>08-09-2011</td>\n",
       "      <td>84.565105</td>\n",
       "    </tr>\n",
       "  </tbody>\n",
       "</table>\n",
       "</div>"
      ],
      "text/plain": [
       "   Unnamed: 0 Manufacturer    Model  Sales_in_thousands  \\\n",
       "0           0        Acura  Integra              16.919   \n",
       "1           1        Acura       TL              39.384   \n",
       "2           2        Acura       CL              14.114   \n",
       "3           3        Acura       RL               8.588   \n",
       "4           4         Audi       A4              20.397   \n",
       "5           5         Audi       A6              18.780   \n",
       "\n",
       "   four_year_resale_value Vehicle_type  Price_in_thousands  Engine_size  \\\n",
       "0                  16.360    Passenger               21.50          1.8   \n",
       "1                  19.875    Passenger               28.40          3.2   \n",
       "2                  18.225    Passenger                 NaN          3.2   \n",
       "3                  29.725    Passenger               42.00          3.5   \n",
       "4                  22.255    Passenger               23.99          1.8   \n",
       "5                  23.555    Passenger               33.95          2.8   \n",
       "\n",
       "   Horsepower  Wheelbase  Width  Length  Curb weight  Fuel_capacity  \\\n",
       "0       140.0      101.2   67.3   172.4        2.639           13.2   \n",
       "1       225.0      108.1   70.3   192.9        3.517           17.2   \n",
       "2       225.0      106.9   70.6   192.0        3.470           17.2   \n",
       "3       210.0      114.6   71.4   196.6        3.850           18.0   \n",
       "4       150.0      102.6   68.2   178.0        2.998           16.4   \n",
       "5       200.0      108.7   76.1   192.0        3.561           18.5   \n",
       "\n",
       "   Fuel_efficiency Latest_Launch  Power_perf_factor  \n",
       "0             28.0    02-02-2012          58.280150  \n",
       "1             25.0    06-03-2011          91.370778  \n",
       "2             26.0    01-04-2012                NaN  \n",
       "3             22.0    03-10-2011          91.389779  \n",
       "4             27.0    10-08-2011          62.777639  \n",
       "5             22.0    08-09-2011          84.565105  "
      ]
     },
     "execution_count": 7,
     "metadata": {},
     "output_type": "execute_result"
    }
   ],
   "source": [
    "veh.head(6)"
   ]
  },
  {
   "cell_type": "code",
   "execution_count": 8,
   "id": "0cc1414a",
   "metadata": {},
   "outputs": [
    {
     "name": "stdout",
     "output_type": "stream",
     "text": [
      "<class 'pandas.core.frame.DataFrame'>\n",
      "RangeIndex: 157 entries, 0 to 156\n",
      "Data columns (total 17 columns):\n",
      " #   Column                  Non-Null Count  Dtype  \n",
      "---  ------                  --------------  -----  \n",
      " 0   Unnamed: 0              157 non-null    int64  \n",
      " 1   Manufacturer            157 non-null    object \n",
      " 2   Model                   157 non-null    object \n",
      " 3   Sales_in_thousands      157 non-null    float64\n",
      " 4   four_year_resale_value  121 non-null    float64\n",
      " 5   Vehicle_type            157 non-null    object \n",
      " 6   Price_in_thousands      155 non-null    float64\n",
      " 7   Engine_size             156 non-null    float64\n",
      " 8   Horsepower              156 non-null    float64\n",
      " 9   Wheelbase               156 non-null    float64\n",
      " 10  Width                   156 non-null    float64\n",
      " 11  Length                  156 non-null    float64\n",
      " 12  Curb weight             155 non-null    float64\n",
      " 13  Fuel_capacity           156 non-null    float64\n",
      " 14  Fuel_efficiency         154 non-null    float64\n",
      " 15  Latest_Launch           157 non-null    object \n",
      " 16  Power_perf_factor       155 non-null    float64\n",
      "dtypes: float64(12), int64(1), object(4)\n",
      "memory usage: 21.0+ KB\n"
     ]
    }
   ],
   "source": [
    "veh.info()"
   ]
  },
  {
   "cell_type": "code",
   "execution_count": 9,
   "id": "55502664",
   "metadata": {},
   "outputs": [
    {
     "data": {
      "text/plain": [
       "float64    12\n",
       "object      4\n",
       "int64       1\n",
       "dtype: int64"
      ]
     },
     "execution_count": 9,
     "metadata": {},
     "output_type": "execute_result"
    }
   ],
   "source": [
    "veh.dtypes.value_counts()"
   ]
  },
  {
   "cell_type": "code",
   "execution_count": 10,
   "id": "32caa5b1",
   "metadata": {},
   "outputs": [
    {
     "data": {
      "text/plain": [
       "Dodge         11\n",
       "Ford          11\n",
       "Toyota         9\n",
       "Chevrolet      9\n",
       "Mercedes-B     9\n",
       "Mitsubishi     7\n",
       "Nissan         7\n",
       "Chrysler       7\n",
       "Volvo          6\n",
       "Oldsmobile     6\n",
       "Lexus          6\n",
       "Mercury        6\n",
       "Pontiac        6\n",
       "Volkswagen     6\n",
       "Saturn         5\n",
       "Cadillac       5\n",
       "Honda          5\n",
       "Plymouth       4\n",
       "Acura          4\n",
       "Buick          4\n",
       "Audi           3\n",
       "Jeep           3\n",
       "Porsche        3\n",
       "Hyundai        3\n",
       "BMW            3\n",
       "Lincoln        3\n",
       "Saab           2\n",
       "Subaru         2\n",
       "Jaguar         1\n",
       "Infiniti       1\n",
       "Name: Manufacturer, dtype: int64"
      ]
     },
     "execution_count": 10,
     "metadata": {},
     "output_type": "execute_result"
    }
   ],
   "source": [
    "veh[\"Manufacturer\"].value_counts()"
   ]
  },
  {
   "cell_type": "code",
   "execution_count": 11,
   "id": "2cdb06f6",
   "metadata": {},
   "outputs": [
    {
     "data": {
      "text/plain": [
       "Dodge         0.070064\n",
       "Ford          0.070064\n",
       "Toyota        0.057325\n",
       "Chevrolet     0.057325\n",
       "Mercedes-B    0.057325\n",
       "Mitsubishi    0.044586\n",
       "Nissan        0.044586\n",
       "Chrysler      0.044586\n",
       "Volvo         0.038217\n",
       "Oldsmobile    0.038217\n",
       "Lexus         0.038217\n",
       "Mercury       0.038217\n",
       "Pontiac       0.038217\n",
       "Volkswagen    0.038217\n",
       "Saturn        0.031847\n",
       "Cadillac      0.031847\n",
       "Honda         0.031847\n",
       "Plymouth      0.025478\n",
       "Acura         0.025478\n",
       "Buick         0.025478\n",
       "Audi          0.019108\n",
       "Jeep          0.019108\n",
       "Porsche       0.019108\n",
       "Hyundai       0.019108\n",
       "BMW           0.019108\n",
       "Lincoln       0.019108\n",
       "Saab          0.012739\n",
       "Subaru        0.012739\n",
       "Jaguar        0.006369\n",
       "Infiniti      0.006369\n",
       "Name: Manufacturer, dtype: float64"
      ]
     },
     "execution_count": 11,
     "metadata": {},
     "output_type": "execute_result"
    }
   ],
   "source": [
    "veh[\"Manufacturer\"].value_counts(normalize=True)"
   ]
  },
  {
   "cell_type": "code",
   "execution_count": 12,
   "id": "e664c33e",
   "metadata": {},
   "outputs": [
    {
     "data": {
      "text/plain": [
       "array(['Acura', 'Audi', 'BMW', 'Buick', 'Cadillac', 'Chevrolet',\n",
       "       'Chrysler', 'Dodge', 'Ford', 'Honda', 'Hyundai', 'Infiniti',\n",
       "       'Jaguar', 'Jeep', 'Lexus', 'Lincoln', 'Mitsubishi', 'Mercury',\n",
       "       'Mercedes-B', 'Nissan', 'Oldsmobile', 'Plymouth', 'Pontiac',\n",
       "       'Porsche', 'Saab', 'Saturn', 'Subaru', 'Toyota', 'Volkswagen',\n",
       "       'Volvo'], dtype=object)"
      ]
     },
     "execution_count": 12,
     "metadata": {},
     "output_type": "execute_result"
    }
   ],
   "source": [
    "veh[\"Manufacturer\"].unique()"
   ]
  },
  {
   "cell_type": "code",
   "execution_count": 13,
   "id": "65d00e4d",
   "metadata": {},
   "outputs": [
    {
     "data": {
      "text/plain": [
       "30"
      ]
     },
     "execution_count": 13,
     "metadata": {},
     "output_type": "execute_result"
    }
   ],
   "source": [
    "veh[\"Manufacturer\"].nunique()"
   ]
  },
  {
   "cell_type": "code",
   "execution_count": 14,
   "id": "9f011e03",
   "metadata": {},
   "outputs": [
    {
     "data": {
      "text/plain": [
       "(157, 17)"
      ]
     },
     "execution_count": 14,
     "metadata": {},
     "output_type": "execute_result"
    }
   ],
   "source": [
    "veh.shape"
   ]
  },
  {
   "cell_type": "code",
   "execution_count": 15,
   "id": "9469d1d2",
   "metadata": {},
   "outputs": [],
   "source": [
    "veh.drop(columns=[\"Manufacturer\", \"Unnamed: 0\"], inplace=True)"
   ]
  },
  {
   "cell_type": "code",
   "execution_count": 16,
   "id": "46690ddc",
   "metadata": {},
   "outputs": [
    {
     "data": {
      "text/plain": [
       "Neon          2\n",
       "Integra       1\n",
       "Cutlass       1\n",
       "Sentra        1\n",
       "Altima        1\n",
       "             ..\n",
       "Windstar      1\n",
       "Expedition    1\n",
       "Ranger        1\n",
       "F-Series      1\n",
       "S80           1\n",
       "Name: Model, Length: 156, dtype: int64"
      ]
     },
     "execution_count": 16,
     "metadata": {},
     "output_type": "execute_result"
    }
   ],
   "source": [
    "veh[\"Model\"].value_counts()"
   ]
  },
  {
   "cell_type": "code",
   "execution_count": 17,
   "id": "5233d724",
   "metadata": {},
   "outputs": [],
   "source": [
    "veh.drop([\"Model\"], inplace=True, axis=1)"
   ]
  },
  {
   "cell_type": "code",
   "execution_count": 18,
   "id": "dd9bda07",
   "metadata": {},
   "outputs": [
    {
     "data": {
      "text/plain": [
       "Index(['Vehicle_type', 'Latest_Launch'], dtype='object')"
      ]
     },
     "execution_count": 18,
     "metadata": {},
     "output_type": "execute_result"
    }
   ],
   "source": [
    "veh.dtypes[veh.dtypes==\"object\"].index"
   ]
  },
  {
   "cell_type": "code",
   "execution_count": 19,
   "id": "851f6e65",
   "metadata": {},
   "outputs": [
    {
     "data": {
      "text/plain": [
       "Passenger    116\n",
       "Car           41\n",
       "Name: Vehicle_type, dtype: int64"
      ]
     },
     "execution_count": 19,
     "metadata": {},
     "output_type": "execute_result"
    }
   ],
   "source": [
    "veh[\"Vehicle_type\"].value_counts()"
   ]
  },
  {
   "cell_type": "code",
   "execution_count": 20,
   "id": "6c422f0f",
   "metadata": {},
   "outputs": [
    {
     "data": {
      "text/plain": [
       "10-05-2012    2\n",
       "1/24/2011     2\n",
       "4/26/2011     2\n",
       "6/25/2011     2\n",
       "9/21/2011     2\n",
       "             ..\n",
       "08-07-2011    1\n",
       "06-02-2012    1\n",
       "10/31/2011    1\n",
       "07-01-2012    1\n",
       "10/20/2011    1\n",
       "Name: Latest_Launch, Length: 130, dtype: int64"
      ]
     },
     "execution_count": 20,
     "metadata": {},
     "output_type": "execute_result"
    }
   ],
   "source": [
    "veh[\"Latest_Launch\"].value_counts()"
   ]
  },
  {
   "cell_type": "code",
   "execution_count": 21,
   "id": "3c5c1631",
   "metadata": {},
   "outputs": [],
   "source": [
    "veh[\"date\"]=pd.to_datetime(veh[\"Latest_Launch\"])"
   ]
  },
  {
   "cell_type": "code",
   "execution_count": 22,
   "id": "3678c052",
   "metadata": {},
   "outputs": [],
   "source": [
    "veh.drop([\"Latest_Launch\"], inplace=True, axis=1)"
   ]
  },
  {
   "cell_type": "code",
   "execution_count": 23,
   "id": "5b2c0b4b",
   "metadata": {},
   "outputs": [
    {
     "data": {
      "text/html": [
       "<div>\n",
       "<style scoped>\n",
       "    .dataframe tbody tr th:only-of-type {\n",
       "        vertical-align: middle;\n",
       "    }\n",
       "\n",
       "    .dataframe tbody tr th {\n",
       "        vertical-align: top;\n",
       "    }\n",
       "\n",
       "    .dataframe thead th {\n",
       "        text-align: right;\n",
       "    }\n",
       "</style>\n",
       "<table border=\"1\" class=\"dataframe\">\n",
       "  <thead>\n",
       "    <tr style=\"text-align: right;\">\n",
       "      <th></th>\n",
       "      <th>Sales_in_thousands</th>\n",
       "      <th>four_year_resale_value</th>\n",
       "      <th>Vehicle_type</th>\n",
       "      <th>Price_in_thousands</th>\n",
       "      <th>Engine_size</th>\n",
       "      <th>Horsepower</th>\n",
       "      <th>Wheelbase</th>\n",
       "      <th>Width</th>\n",
       "      <th>Length</th>\n",
       "      <th>Curb weight</th>\n",
       "      <th>Fuel_capacity</th>\n",
       "      <th>Fuel_efficiency</th>\n",
       "      <th>Power_perf_factor</th>\n",
       "      <th>date</th>\n",
       "    </tr>\n",
       "  </thead>\n",
       "  <tbody>\n",
       "    <tr>\n",
       "      <th>0</th>\n",
       "      <td>16.919</td>\n",
       "      <td>16.360</td>\n",
       "      <td>Passenger</td>\n",
       "      <td>21.50</td>\n",
       "      <td>1.8</td>\n",
       "      <td>140.0</td>\n",
       "      <td>101.2</td>\n",
       "      <td>67.3</td>\n",
       "      <td>172.4</td>\n",
       "      <td>2.639</td>\n",
       "      <td>13.2</td>\n",
       "      <td>28.0</td>\n",
       "      <td>58.280150</td>\n",
       "      <td>2012-02-02</td>\n",
       "    </tr>\n",
       "    <tr>\n",
       "      <th>1</th>\n",
       "      <td>39.384</td>\n",
       "      <td>19.875</td>\n",
       "      <td>Passenger</td>\n",
       "      <td>28.40</td>\n",
       "      <td>3.2</td>\n",
       "      <td>225.0</td>\n",
       "      <td>108.1</td>\n",
       "      <td>70.3</td>\n",
       "      <td>192.9</td>\n",
       "      <td>3.517</td>\n",
       "      <td>17.2</td>\n",
       "      <td>25.0</td>\n",
       "      <td>91.370778</td>\n",
       "      <td>2011-06-03</td>\n",
       "    </tr>\n",
       "    <tr>\n",
       "      <th>2</th>\n",
       "      <td>14.114</td>\n",
       "      <td>18.225</td>\n",
       "      <td>Passenger</td>\n",
       "      <td>NaN</td>\n",
       "      <td>3.2</td>\n",
       "      <td>225.0</td>\n",
       "      <td>106.9</td>\n",
       "      <td>70.6</td>\n",
       "      <td>192.0</td>\n",
       "      <td>3.470</td>\n",
       "      <td>17.2</td>\n",
       "      <td>26.0</td>\n",
       "      <td>NaN</td>\n",
       "      <td>2012-01-04</td>\n",
       "    </tr>\n",
       "    <tr>\n",
       "      <th>3</th>\n",
       "      <td>8.588</td>\n",
       "      <td>29.725</td>\n",
       "      <td>Passenger</td>\n",
       "      <td>42.00</td>\n",
       "      <td>3.5</td>\n",
       "      <td>210.0</td>\n",
       "      <td>114.6</td>\n",
       "      <td>71.4</td>\n",
       "      <td>196.6</td>\n",
       "      <td>3.850</td>\n",
       "      <td>18.0</td>\n",
       "      <td>22.0</td>\n",
       "      <td>91.389779</td>\n",
       "      <td>2011-03-10</td>\n",
       "    </tr>\n",
       "    <tr>\n",
       "      <th>4</th>\n",
       "      <td>20.397</td>\n",
       "      <td>22.255</td>\n",
       "      <td>Passenger</td>\n",
       "      <td>23.99</td>\n",
       "      <td>1.8</td>\n",
       "      <td>150.0</td>\n",
       "      <td>102.6</td>\n",
       "      <td>68.2</td>\n",
       "      <td>178.0</td>\n",
       "      <td>2.998</td>\n",
       "      <td>16.4</td>\n",
       "      <td>27.0</td>\n",
       "      <td>62.777639</td>\n",
       "      <td>2011-10-08</td>\n",
       "    </tr>\n",
       "    <tr>\n",
       "      <th>...</th>\n",
       "      <td>...</td>\n",
       "      <td>...</td>\n",
       "      <td>...</td>\n",
       "      <td>...</td>\n",
       "      <td>...</td>\n",
       "      <td>...</td>\n",
       "      <td>...</td>\n",
       "      <td>...</td>\n",
       "      <td>...</td>\n",
       "      <td>...</td>\n",
       "      <td>...</td>\n",
       "      <td>...</td>\n",
       "      <td>...</td>\n",
       "      <td>...</td>\n",
       "    </tr>\n",
       "    <tr>\n",
       "      <th>152</th>\n",
       "      <td>3.545</td>\n",
       "      <td>NaN</td>\n",
       "      <td>Passenger</td>\n",
       "      <td>24.40</td>\n",
       "      <td>1.9</td>\n",
       "      <td>160.0</td>\n",
       "      <td>100.5</td>\n",
       "      <td>67.6</td>\n",
       "      <td>176.6</td>\n",
       "      <td>3.042</td>\n",
       "      <td>15.8</td>\n",
       "      <td>25.0</td>\n",
       "      <td>66.498812</td>\n",
       "      <td>2011-09-21</td>\n",
       "    </tr>\n",
       "    <tr>\n",
       "      <th>153</th>\n",
       "      <td>15.245</td>\n",
       "      <td>NaN</td>\n",
       "      <td>Passenger</td>\n",
       "      <td>27.50</td>\n",
       "      <td>2.4</td>\n",
       "      <td>168.0</td>\n",
       "      <td>104.9</td>\n",
       "      <td>69.3</td>\n",
       "      <td>185.9</td>\n",
       "      <td>3.208</td>\n",
       "      <td>17.9</td>\n",
       "      <td>25.0</td>\n",
       "      <td>70.654495</td>\n",
       "      <td>2012-11-24</td>\n",
       "    </tr>\n",
       "    <tr>\n",
       "      <th>154</th>\n",
       "      <td>17.531</td>\n",
       "      <td>NaN</td>\n",
       "      <td>Passenger</td>\n",
       "      <td>28.80</td>\n",
       "      <td>2.4</td>\n",
       "      <td>168.0</td>\n",
       "      <td>104.9</td>\n",
       "      <td>69.3</td>\n",
       "      <td>186.2</td>\n",
       "      <td>3.259</td>\n",
       "      <td>17.9</td>\n",
       "      <td>25.0</td>\n",
       "      <td>71.155978</td>\n",
       "      <td>2011-06-25</td>\n",
       "    </tr>\n",
       "    <tr>\n",
       "      <th>155</th>\n",
       "      <td>3.493</td>\n",
       "      <td>NaN</td>\n",
       "      <td>Passenger</td>\n",
       "      <td>45.50</td>\n",
       "      <td>2.3</td>\n",
       "      <td>236.0</td>\n",
       "      <td>104.9</td>\n",
       "      <td>71.5</td>\n",
       "      <td>185.7</td>\n",
       "      <td>3.601</td>\n",
       "      <td>18.5</td>\n",
       "      <td>23.0</td>\n",
       "      <td>101.623357</td>\n",
       "      <td>2011-04-26</td>\n",
       "    </tr>\n",
       "    <tr>\n",
       "      <th>156</th>\n",
       "      <td>18.969</td>\n",
       "      <td>NaN</td>\n",
       "      <td>Passenger</td>\n",
       "      <td>36.00</td>\n",
       "      <td>2.9</td>\n",
       "      <td>201.0</td>\n",
       "      <td>109.9</td>\n",
       "      <td>72.1</td>\n",
       "      <td>189.8</td>\n",
       "      <td>3.600</td>\n",
       "      <td>21.1</td>\n",
       "      <td>24.0</td>\n",
       "      <td>85.735655</td>\n",
       "      <td>2011-11-14</td>\n",
       "    </tr>\n",
       "  </tbody>\n",
       "</table>\n",
       "<p>157 rows × 14 columns</p>\n",
       "</div>"
      ],
      "text/plain": [
       "     Sales_in_thousands  four_year_resale_value Vehicle_type  \\\n",
       "0                16.919                  16.360    Passenger   \n",
       "1                39.384                  19.875    Passenger   \n",
       "2                14.114                  18.225    Passenger   \n",
       "3                 8.588                  29.725    Passenger   \n",
       "4                20.397                  22.255    Passenger   \n",
       "..                  ...                     ...          ...   \n",
       "152               3.545                     NaN    Passenger   \n",
       "153              15.245                     NaN    Passenger   \n",
       "154              17.531                     NaN    Passenger   \n",
       "155               3.493                     NaN    Passenger   \n",
       "156              18.969                     NaN    Passenger   \n",
       "\n",
       "     Price_in_thousands  Engine_size  Horsepower  Wheelbase  Width  Length  \\\n",
       "0                 21.50          1.8       140.0      101.2   67.3   172.4   \n",
       "1                 28.40          3.2       225.0      108.1   70.3   192.9   \n",
       "2                   NaN          3.2       225.0      106.9   70.6   192.0   \n",
       "3                 42.00          3.5       210.0      114.6   71.4   196.6   \n",
       "4                 23.99          1.8       150.0      102.6   68.2   178.0   \n",
       "..                  ...          ...         ...        ...    ...     ...   \n",
       "152               24.40          1.9       160.0      100.5   67.6   176.6   \n",
       "153               27.50          2.4       168.0      104.9   69.3   185.9   \n",
       "154               28.80          2.4       168.0      104.9   69.3   186.2   \n",
       "155               45.50          2.3       236.0      104.9   71.5   185.7   \n",
       "156               36.00          2.9       201.0      109.9   72.1   189.8   \n",
       "\n",
       "     Curb weight  Fuel_capacity  Fuel_efficiency  Power_perf_factor       date  \n",
       "0          2.639           13.2             28.0          58.280150 2012-02-02  \n",
       "1          3.517           17.2             25.0          91.370778 2011-06-03  \n",
       "2          3.470           17.2             26.0                NaN 2012-01-04  \n",
       "3          3.850           18.0             22.0          91.389779 2011-03-10  \n",
       "4          2.998           16.4             27.0          62.777639 2011-10-08  \n",
       "..           ...            ...              ...                ...        ...  \n",
       "152        3.042           15.8             25.0          66.498812 2011-09-21  \n",
       "153        3.208           17.9             25.0          70.654495 2012-11-24  \n",
       "154        3.259           17.9             25.0          71.155978 2011-06-25  \n",
       "155        3.601           18.5             23.0         101.623357 2011-04-26  \n",
       "156        3.600           21.1             24.0          85.735655 2011-11-14  \n",
       "\n",
       "[157 rows x 14 columns]"
      ]
     },
     "execution_count": 23,
     "metadata": {},
     "output_type": "execute_result"
    }
   ],
   "source": [
    "veh"
   ]
  },
  {
   "cell_type": "code",
   "execution_count": 24,
   "id": "7d0d2031",
   "metadata": {},
   "outputs": [],
   "source": [
    "basicStat=veh.describe(percentiles=[0.01, .02,.03,.04,.05,.1,.25,.50,.75,.9,.95,.96,.97,.98,.99]).T"
   ]
  },
  {
   "cell_type": "code",
   "execution_count": 25,
   "id": "b0bd10d5",
   "metadata": {},
   "outputs": [
    {
     "data": {
      "text/plain": [
       "pandas.core.frame.DataFrame"
      ]
     },
     "execution_count": 25,
     "metadata": {},
     "output_type": "execute_result"
    }
   ],
   "source": [
    "type(basicStat)"
   ]
  },
  {
   "cell_type": "code",
   "execution_count": 26,
   "id": "b7f3276e",
   "metadata": {},
   "outputs": [],
   "source": [
    "# basicStat.to_excel(\"basicStat.xlsx\")"
   ]
  },
  {
   "cell_type": "code",
   "execution_count": 27,
   "id": "609e7122",
   "metadata": {},
   "outputs": [],
   "source": [
    "# basicStat.to_csv(\"dfgf.csv\")"
   ]
  },
  {
   "cell_type": "code",
   "execution_count": 28,
   "id": "c3ccd684",
   "metadata": {},
   "outputs": [
    {
     "data": {
      "text/plain": [
       "52.99807643312102"
      ]
     },
     "execution_count": 28,
     "metadata": {},
     "output_type": "execute_result"
    }
   ],
   "source": [
    "veh[\"Sales_in_thousands\"].mean()"
   ]
  },
  {
   "cell_type": "code",
   "execution_count": 29,
   "id": "fce89f1c",
   "metadata": {},
   "outputs": [
    {
     "data": {
      "text/plain": [
       "68.02942199750512"
      ]
     },
     "execution_count": 29,
     "metadata": {},
     "output_type": "execute_result"
    }
   ],
   "source": [
    "veh[\"Sales_in_thousands\"].std()"
   ]
  },
  {
   "cell_type": "code",
   "execution_count": 30,
   "id": "950036dc",
   "metadata": {},
   "outputs": [
    {
     "data": {
      "image/png": "[encoded data removed]",
      "text/plain": [
       "<Figure size 432x288 with 1 Axes>"
      ]
     },
     "metadata": {
      "needs_background": "light"
     },
     "output_type": "display_data"
    }
   ],
   "source": [
    "plt.hist(veh[\"Sales_in_thousands\"])\n",
    "plt.show()"
   ]
  },
  {
   "cell_type": "code",
   "execution_count": 31,
   "id": "fd5d744d",
   "metadata": {},
   "outputs": [
    {
     "data": {
      "image/png": "[encoded data removed]",
      "text/plain": [
       "<Figure size 432x288 with 1 Axes>"
      ]
     },
     "metadata": {
      "needs_background": "light"
     },
     "output_type": "display_data"
    }
   ],
   "source": [
    "plt.hist(veh[\"Price_in_thousands\"])\n",
    "plt.show()"
   ]
  },
  {
   "cell_type": "code",
   "execution_count": 32,
   "id": "a991bff5",
   "metadata": {},
   "outputs": [
    {
     "data": {
      "text/plain": [
       "(157, 14)"
      ]
     },
     "execution_count": 32,
     "metadata": {},
     "output_type": "execute_result"
    }
   ],
   "source": [
    "veh.shape"
   ]
  },
  {
   "cell_type": "markdown",
   "id": "d1877932",
   "metadata": {},
   "source": [
    "## Bivariate  Analysis"
   ]
  },
  {
   "cell_type": "code",
   "execution_count": 33,
   "id": "52e11327",
   "metadata": {},
   "outputs": [],
   "source": [
    "# veh.drop(['Unnamed: 0'], inplace=True, axis=1)"
   ]
  },
  {
   "cell_type": "code",
   "execution_count": 34,
   "id": "8ab683fc",
   "metadata": {},
   "outputs": [
    {
     "data": {
      "text/plain": [
       "Index(['Sales_in_thousands', 'four_year_resale_value', 'Vehicle_type',\n",
       "       'Price_in_thousands', 'Engine_size', 'Horsepower', 'Wheelbase', 'Width',\n",
       "       'Length', 'Curb weight', 'Fuel_capacity', 'Fuel_efficiency',\n",
       "       'Power_perf_factor', 'date'],\n",
       "      dtype='object')"
      ]
     },
     "execution_count": 34,
     "metadata": {},
     "output_type": "execute_result"
    }
   ],
   "source": [
    "veh.columns"
   ]
  },
  {
   "cell_type": "code",
   "execution_count": 35,
   "id": "e05ccb4b",
   "metadata": {},
   "outputs": [
    {
     "data": {
      "text/plain": [
       "Vehicle_type\n",
       "Car          80.622293\n",
       "Passenger    43.234345\n",
       "Name: Sales_in_thousands, dtype: float64"
      ]
     },
     "execution_count": 35,
     "metadata": {},
     "output_type": "execute_result"
    }
   ],
   "source": [
    "veh.groupby([\"Vehicle_type\"])[\"Sales_in_thousands\"].mean()"
   ]
  },
  {
   "cell_type": "code",
   "execution_count": 36,
   "id": "b715f95b",
   "metadata": {},
   "outputs": [
    {
     "data": {
      "text/plain": [
       "<AxesSubplot:xlabel='Vehicle_type'>"
      ]
     },
     "execution_count": 36,
     "metadata": {},
     "output_type": "execute_result"
    },
    {
     "data": {
      "image/png": "[encoded data removed]",
      "text/plain": [
       "<Figure size 432x288 with 1 Axes>"
      ]
     },
     "metadata": {
      "needs_background": "light"
     },
     "output_type": "display_data"
    }
   ],
   "source": [
    "veh.groupby([\"Vehicle_type\"])[\"Sales_in_thousands\"].mean().plot(kind=\"bar\")"
   ]
  },
  {
   "cell_type": "code",
   "execution_count": 37,
   "id": "47df651c",
   "metadata": {},
   "outputs": [],
   "source": [
    "# veh.groupby([\"Vehicle_type\"])[\"Sales_in_thousands\"].min()"
   ]
  },
  {
   "cell_type": "code",
   "execution_count": 38,
   "id": "6aa7f953",
   "metadata": {},
   "outputs": [
    {
     "data": {
      "text/plain": [
       "Vehicle_type\n",
       "Car          80.622293\n",
       "Passenger    43.234345\n",
       "Name: Sales_in_thousands, dtype: float64"
      ]
     },
     "execution_count": 38,
     "metadata": {},
     "output_type": "execute_result"
    }
   ],
   "source": [
    "veh.groupby([\"Vehicle_type\"])[\"Sales_in_thousands\"].mean()"
   ]
  },
  {
   "cell_type": "code",
   "execution_count": 39,
   "id": "2461a304",
   "metadata": {},
   "outputs": [],
   "source": [
    "# veh.groupby([\"Vehicle_type\"]).agg({\"Sales_in_thousands\": [\"mean\", \"min\", \"std\", \"max\"] ,\n",
    "#                                   \"Price_in_thousands\": [\"min\", \"max\", \"mean\", \"var\", \"count\"]})"
   ]
  },
  {
   "cell_type": "code",
   "execution_count": 40,
   "id": "5aa7fdf5",
   "metadata": {},
   "outputs": [],
   "source": [
    "s1=veh[veh[\"Vehicle_type\"]==\"Car\"]\n",
    "s2=veh[veh[\"Vehicle_type\"]!=\"Car\"]"
   ]
  },
  {
   "cell_type": "code",
   "execution_count": 41,
   "id": "535066e7",
   "metadata": {},
   "outputs": [],
   "source": [
    "# Ho : Avg sales of car= Avg Sales of Passenger\n",
    "# Ha : Avg sales of car != Avg Sales of Passenger\n",
    "# Test : Two sample / Independent Sample T test\n",
    "#  CI & Alpha  (95%) & 0.05\n",
    "# Decision Rule : If p >= Alpha : we fail to reject Null hypothesis\n",
    "#               : If p< alpha : We fail to accept Null Hyp and accept Alter Hyp"
   ]
  },
  {
   "cell_type": "code",
   "execution_count": 42,
   "id": "0f2e5dab",
   "metadata": {},
   "outputs": [],
   "source": [
    "from scipy import stats "
   ]
  },
  {
   "cell_type": "code",
   "execution_count": 43,
   "id": "09ae4d7b",
   "metadata": {},
   "outputs": [
    {
     "data": {
      "text/plain": [
       "Ttest_indResult(statistic=3.1076673920909745, pvalue=0.0022437086557697637)"
      ]
     },
     "execution_count": 43,
     "metadata": {},
     "output_type": "execute_result"
    }
   ],
   "source": [
    "stats.ttest_ind(s1[\"Sales_in_thousands\"], s2[\"Sales_in_thousands\"]) "
   ]
  },
  {
   "cell_type": "code",
   "execution_count": 44,
   "id": "ded4962d",
   "metadata": {},
   "outputs": [
    {
     "data": {
      "image/png": "[encoded data removed]",
      "text/plain": [
       "<Figure size 432x288 with 1 Axes>"
      ]
     },
     "metadata": {
      "needs_background": "light"
     },
     "output_type": "display_data"
    }
   ],
   "source": [
    "# Sale to all\n",
    "plt.scatter( veh[\"Price_in_thousands\"], veh[\"Sales_in_thousands\"])\n",
    "plt.xlabel(\"Price\")\n",
    "plt.ylabel(\"Sales\")\n",
    "plt.show()"
   ]
  },
  {
   "cell_type": "code",
   "execution_count": 45,
   "id": "57dd5e88",
   "metadata": {},
   "outputs": [
    {
     "data": {
      "image/png": "[encoded data removed]",
      "text/plain": [
       "<Figure size 432x288 with 1 Axes>"
      ]
     },
     "metadata": {
      "needs_background": "light"
     },
     "output_type": "display_data"
    }
   ],
   "source": [
    "plt.scatter( veh[\"four_year_resale_value\"], veh[\"Sales_in_thousands\"])\n",
    "plt.xlabel(\"four_year_resale_value\")\n",
    "plt.ylabel(\"Sales\")\n",
    "plt.show() "
   ]
  },
  {
   "cell_type": "code",
   "execution_count": 46,
   "id": "69876ef4",
   "metadata": {},
   "outputs": [
    {
     "data": {
      "image/png": "[encoded data removed]",
      "text/plain": [
       "<Figure size 432x288 with 1 Axes>"
      ]
     },
     "metadata": {
      "needs_background": "light"
     },
     "output_type": "display_data"
    }
   ],
   "source": [
    "plt.scatter( veh[\"Engine_size\"], veh[\"Sales_in_thousands\"])\n",
    "plt.xlabel(\"Engine_size\")\n",
    "plt.ylabel(\"Sales\")\n",
    "plt.show() "
   ]
  },
  {
   "cell_type": "code",
   "execution_count": 47,
   "id": "20c3c185",
   "metadata": {},
   "outputs": [
    {
     "data": {
      "text/plain": [
       "Sales_in_thousands               float64\n",
       "four_year_resale_value           float64\n",
       "Vehicle_type                      object\n",
       "Price_in_thousands               float64\n",
       "Engine_size                      float64\n",
       "Horsepower                       float64\n",
       "Wheelbase                        float64\n",
       "Width                            float64\n",
       "Length                           float64\n",
       "Curb weight                      float64\n",
       "Fuel_capacity                    float64\n",
       "Fuel_efficiency                  float64\n",
       "Power_perf_factor                float64\n",
       "date                      datetime64[ns]\n",
       "dtype: object"
      ]
     },
     "execution_count": 47,
     "metadata": {},
     "output_type": "execute_result"
    }
   ],
   "source": [
    "veh.dtypes"
   ]
  },
  {
   "cell_type": "code",
   "execution_count": 48,
   "id": "effbd4ac",
   "metadata": {},
   "outputs": [
    {
     "data": {
      "image/png": "[encoded data removed]",
      "text/plain": [
       "<Figure size 432x288 with 1 Axes>"
      ]
     },
     "metadata": {
      "needs_background": "light"
     },
     "output_type": "display_data"
    }
   ],
   "source": [
    "plt.scatter( veh[\"Horsepower\"], veh[\"Sales_in_thousands\"])\n",
    "plt.xlabel(\"Horsepower\")\n",
    "plt.ylabel(\"Sales\")\n",
    "plt.show() "
   ]
  },
  {
   "cell_type": "code",
   "execution_count": 49,
   "id": "12d5d8d2",
   "metadata": {},
   "outputs": [
    {
     "data": {
      "image/png": "[encoded data removed]",
      "text/plain": [
       "<Figure size 432x288 with 1 Axes>"
      ]
     },
     "metadata": {
      "needs_background": "light"
     },
     "output_type": "display_data"
    }
   ],
   "source": [
    "# X~X\n",
    "plt.scatter( veh[\"Price_in_thousands\"], veh[\"four_year_resale_value\"])\n",
    "plt.xlabel(\"Price_in_thousands\")\n",
    "plt.ylabel(\"four_year_resale_value\")\n",
    "plt.show() "
   ]
  },
  {
   "cell_type": "code",
   "execution_count": 50,
   "id": "3aec480e",
   "metadata": {},
   "outputs": [],
   "source": [
    "# sns.pairplot(veh)\n",
    "# plt.show()"
   ]
  },
  {
   "cell_type": "code",
   "execution_count": 51,
   "id": "4aa985d5",
   "metadata": {},
   "outputs": [
    {
     "data": {
      "text/plain": [
       "Index(['Sales_in_thousands', 'four_year_resale_value', 'Vehicle_type',\n",
       "       'Price_in_thousands', 'Engine_size', 'Horsepower', 'Wheelbase', 'Width',\n",
       "       'Length', 'Curb weight', 'Fuel_capacity', 'Fuel_efficiency',\n",
       "       'Power_perf_factor', 'date'],\n",
       "      dtype='object')"
      ]
     },
     "execution_count": 51,
     "metadata": {},
     "output_type": "execute_result"
    }
   ],
   "source": [
    "veh.columns"
   ]
  },
  {
   "cell_type": "code",
   "execution_count": 52,
   "id": "d7c5b0f9",
   "metadata": {},
   "outputs": [],
   "source": [
    "# Cleaning\n",
    "veh1=veh.drop([\"date\"], axis=1)"
   ]
  },
  {
   "cell_type": "code",
   "execution_count": 53,
   "id": "fe93e3f5",
   "metadata": {},
   "outputs": [
    {
     "data": {
      "text/plain": [
       "four_year_resale_value    36\n",
       "Fuel_efficiency            3\n",
       "Price_in_thousands         2\n",
       "Curb weight                2\n",
       "Power_perf_factor          2\n",
       "Engine_size                1\n",
       "Horsepower                 1\n",
       "Wheelbase                  1\n",
       "Width                      1\n",
       "Length                     1\n",
       "Fuel_capacity              1\n",
       "Sales_in_thousands         0\n",
       "Vehicle_type               0\n",
       "dtype: int64"
      ]
     },
     "execution_count": 53,
     "metadata": {},
     "output_type": "execute_result"
    }
   ],
   "source": [
    "veh1.isnull().sum().sort_values(ascending=False)"
   ]
  },
  {
   "cell_type": "code",
   "execution_count": 54,
   "id": "de5819c4",
   "metadata": {},
   "outputs": [
    {
     "name": "stderr",
     "output_type": "stream",
     "text": [
      "C:\\Users\\Archit\\AppData\\Local\\Temp/ipykernel_10288/676192911.py:1: FutureWarning: Dropping of nuisance columns in DataFrame reductions (with 'numeric_only=None') is deprecated; in a future version this will raise TypeError.  Select only valid columns before calling the reduction.\n",
      "  veh2=veh1.fillna(veh1.median())\n"
     ]
    }
   ],
   "source": [
    "veh2=veh1.fillna(veh1.median())"
   ]
  },
  {
   "cell_type": "code",
   "execution_count": 55,
   "id": "864c21c5",
   "metadata": {},
   "outputs": [
    {
     "data": {
      "text/plain": [
       "Sales_in_thousands        0\n",
       "four_year_resale_value    0\n",
       "Vehicle_type              0\n",
       "Price_in_thousands        0\n",
       "Engine_size               0\n",
       "Horsepower                0\n",
       "Wheelbase                 0\n",
       "Width                     0\n",
       "Length                    0\n",
       "Curb weight               0\n",
       "Fuel_capacity             0\n",
       "Fuel_efficiency           0\n",
       "Power_perf_factor         0\n",
       "dtype: int64"
      ]
     },
     "execution_count": 55,
     "metadata": {},
     "output_type": "execute_result"
    }
   ],
   "source": [
    "veh2.isnull().sum()"
   ]
  },
  {
   "cell_type": "markdown",
   "id": "dbf35140",
   "metadata": {},
   "source": [
    "### Outliers Treatment"
   ]
  },
  {
   "cell_type": "code",
   "execution_count": 56,
   "id": "4e3521b2",
   "metadata": {},
   "outputs": [],
   "source": [
    "bd=veh2.describe(percentiles=[0.01, .02,.03,.04,.05,.1,.25,.50,.75,.9,.95,.96,.97,.98,.99]).T\n",
    "# bd.to_csv(\"bd.csv\")"
   ]
  },
  {
   "cell_type": "code",
   "execution_count": 57,
   "id": "58b37ca9",
   "metadata": {},
   "outputs": [],
   "source": [
    "veh2[\"Sales_in_thousands\"]=np.where(veh2[\"Sales_in_thousands\"]>=260,260,veh2[\"Sales_in_thousands\"])\n",
    "veh2[\"Engine_size\"]=np.where(veh2[\"Engine_size\"]>=5.7, 5.7,veh2[\"Engine_size\"])\n",
    "\n",
    "veh2[\"Horsepower\"]=np.where(veh2[\"Horsepower\"]>=325, 325,veh2[\"Horsepower\"])\n",
    "veh2[\"Fuel_efficiency\"]=np.where(veh2[\"Fuel_efficiency\"]>=33, 33,veh2[\"Fuel_efficiency\"])\n",
    "veh2[\"Power_perf_factor\"]=np.where(veh2[\"Power_perf_factor\"]>=141, 141,veh2[\"Power_perf_factor\"])\n"
   ]
  },
  {
   "cell_type": "code",
   "execution_count": 58,
   "id": "b4b6f15d",
   "metadata": {},
   "outputs": [
    {
     "data": {
      "text/plain": [
       "Sales_in_thousands        float64\n",
       "four_year_resale_value    float64\n",
       "Vehicle_type               object\n",
       "Price_in_thousands        float64\n",
       "Engine_size               float64\n",
       "Horsepower                float64\n",
       "Wheelbase                 float64\n",
       "Width                     float64\n",
       "Length                    float64\n",
       "Curb weight               float64\n",
       "Fuel_capacity             float64\n",
       "Fuel_efficiency           float64\n",
       "Power_perf_factor         float64\n",
       "dtype: object"
      ]
     },
     "execution_count": 58,
     "metadata": {},
     "output_type": "execute_result"
    }
   ],
   "source": [
    "veh2.dtypes"
   ]
  },
  {
   "cell_type": "code",
   "execution_count": 59,
   "id": "0792909d",
   "metadata": {},
   "outputs": [],
   "source": [
    "# veh2[\"Vehicle_type_Car\"]=np.where(veh2[\"Vehicle_type\"]==\"Car\",1,0)\n",
    "veh2=pd.get_dummies(veh2, columns=[\"Vehicle_type\"], drop_first=True)"
   ]
  },
  {
   "cell_type": "code",
   "execution_count": 60,
   "id": "0e6a6751",
   "metadata": {},
   "outputs": [
    {
     "data": {
      "text/html": [
       "<div>\n",
       "<style scoped>\n",
       "    .dataframe tbody tr th:only-of-type {\n",
       "        vertical-align: middle;\n",
       "    }\n",
       "\n",
       "    .dataframe tbody tr th {\n",
       "        vertical-align: top;\n",
       "    }\n",
       "\n",
       "    .dataframe thead th {\n",
       "        text-align: right;\n",
       "    }\n",
       "</style>\n",
       "<table border=\"1\" class=\"dataframe\">\n",
       "  <thead>\n",
       "    <tr style=\"text-align: right;\">\n",
       "      <th></th>\n",
       "      <th>Sales_in_thousands</th>\n",
       "      <th>four_year_resale_value</th>\n",
       "      <th>Price_in_thousands</th>\n",
       "      <th>Engine_size</th>\n",
       "      <th>Horsepower</th>\n",
       "      <th>Wheelbase</th>\n",
       "      <th>Width</th>\n",
       "      <th>Length</th>\n",
       "      <th>Curb weight</th>\n",
       "      <th>Fuel_capacity</th>\n",
       "      <th>Fuel_efficiency</th>\n",
       "      <th>Power_perf_factor</th>\n",
       "      <th>Vehicle_type_Passenger</th>\n",
       "    </tr>\n",
       "  </thead>\n",
       "  <tbody>\n",
       "    <tr>\n",
       "      <th>0</th>\n",
       "      <td>16.919</td>\n",
       "      <td>16.360</td>\n",
       "      <td>21.500</td>\n",
       "      <td>1.8</td>\n",
       "      <td>140.0</td>\n",
       "      <td>101.2</td>\n",
       "      <td>67.3</td>\n",
       "      <td>172.4</td>\n",
       "      <td>2.639</td>\n",
       "      <td>13.2</td>\n",
       "      <td>28.0</td>\n",
       "      <td>58.280150</td>\n",
       "      <td>1</td>\n",
       "    </tr>\n",
       "    <tr>\n",
       "      <th>1</th>\n",
       "      <td>39.384</td>\n",
       "      <td>19.875</td>\n",
       "      <td>28.400</td>\n",
       "      <td>3.2</td>\n",
       "      <td>225.0</td>\n",
       "      <td>108.1</td>\n",
       "      <td>70.3</td>\n",
       "      <td>192.9</td>\n",
       "      <td>3.517</td>\n",
       "      <td>17.2</td>\n",
       "      <td>25.0</td>\n",
       "      <td>91.370778</td>\n",
       "      <td>1</td>\n",
       "    </tr>\n",
       "    <tr>\n",
       "      <th>2</th>\n",
       "      <td>14.114</td>\n",
       "      <td>18.225</td>\n",
       "      <td>22.799</td>\n",
       "      <td>3.2</td>\n",
       "      <td>225.0</td>\n",
       "      <td>106.9</td>\n",
       "      <td>70.6</td>\n",
       "      <td>192.0</td>\n",
       "      <td>3.470</td>\n",
       "      <td>17.2</td>\n",
       "      <td>26.0</td>\n",
       "      <td>72.030917</td>\n",
       "      <td>1</td>\n",
       "    </tr>\n",
       "    <tr>\n",
       "      <th>3</th>\n",
       "      <td>8.588</td>\n",
       "      <td>29.725</td>\n",
       "      <td>42.000</td>\n",
       "      <td>3.5</td>\n",
       "      <td>210.0</td>\n",
       "      <td>114.6</td>\n",
       "      <td>71.4</td>\n",
       "      <td>196.6</td>\n",
       "      <td>3.850</td>\n",
       "      <td>18.0</td>\n",
       "      <td>22.0</td>\n",
       "      <td>91.389779</td>\n",
       "      <td>1</td>\n",
       "    </tr>\n",
       "    <tr>\n",
       "      <th>4</th>\n",
       "      <td>20.397</td>\n",
       "      <td>22.255</td>\n",
       "      <td>23.990</td>\n",
       "      <td>1.8</td>\n",
       "      <td>150.0</td>\n",
       "      <td>102.6</td>\n",
       "      <td>68.2</td>\n",
       "      <td>178.0</td>\n",
       "      <td>2.998</td>\n",
       "      <td>16.4</td>\n",
       "      <td>27.0</td>\n",
       "      <td>62.777639</td>\n",
       "      <td>1</td>\n",
       "    </tr>\n",
       "    <tr>\n",
       "      <th>...</th>\n",
       "      <td>...</td>\n",
       "      <td>...</td>\n",
       "      <td>...</td>\n",
       "      <td>...</td>\n",
       "      <td>...</td>\n",
       "      <td>...</td>\n",
       "      <td>...</td>\n",
       "      <td>...</td>\n",
       "      <td>...</td>\n",
       "      <td>...</td>\n",
       "      <td>...</td>\n",
       "      <td>...</td>\n",
       "      <td>...</td>\n",
       "    </tr>\n",
       "    <tr>\n",
       "      <th>152</th>\n",
       "      <td>3.545</td>\n",
       "      <td>14.180</td>\n",
       "      <td>24.400</td>\n",
       "      <td>1.9</td>\n",
       "      <td>160.0</td>\n",
       "      <td>100.5</td>\n",
       "      <td>67.6</td>\n",
       "      <td>176.6</td>\n",
       "      <td>3.042</td>\n",
       "      <td>15.8</td>\n",
       "      <td>25.0</td>\n",
       "      <td>66.498812</td>\n",
       "      <td>1</td>\n",
       "    </tr>\n",
       "    <tr>\n",
       "      <th>153</th>\n",
       "      <td>15.245</td>\n",
       "      <td>14.180</td>\n",
       "      <td>27.500</td>\n",
       "      <td>2.4</td>\n",
       "      <td>168.0</td>\n",
       "      <td>104.9</td>\n",
       "      <td>69.3</td>\n",
       "      <td>185.9</td>\n",
       "      <td>3.208</td>\n",
       "      <td>17.9</td>\n",
       "      <td>25.0</td>\n",
       "      <td>70.654495</td>\n",
       "      <td>1</td>\n",
       "    </tr>\n",
       "    <tr>\n",
       "      <th>154</th>\n",
       "      <td>17.531</td>\n",
       "      <td>14.180</td>\n",
       "      <td>28.800</td>\n",
       "      <td>2.4</td>\n",
       "      <td>168.0</td>\n",
       "      <td>104.9</td>\n",
       "      <td>69.3</td>\n",
       "      <td>186.2</td>\n",
       "      <td>3.259</td>\n",
       "      <td>17.9</td>\n",
       "      <td>25.0</td>\n",
       "      <td>71.155978</td>\n",
       "      <td>1</td>\n",
       "    </tr>\n",
       "    <tr>\n",
       "      <th>155</th>\n",
       "      <td>3.493</td>\n",
       "      <td>14.180</td>\n",
       "      <td>45.500</td>\n",
       "      <td>2.3</td>\n",
       "      <td>236.0</td>\n",
       "      <td>104.9</td>\n",
       "      <td>71.5</td>\n",
       "      <td>185.7</td>\n",
       "      <td>3.601</td>\n",
       "      <td>18.5</td>\n",
       "      <td>23.0</td>\n",
       "      <td>101.623357</td>\n",
       "      <td>1</td>\n",
       "    </tr>\n",
       "    <tr>\n",
       "      <th>156</th>\n",
       "      <td>18.969</td>\n",
       "      <td>14.180</td>\n",
       "      <td>36.000</td>\n",
       "      <td>2.9</td>\n",
       "      <td>201.0</td>\n",
       "      <td>109.9</td>\n",
       "      <td>72.1</td>\n",
       "      <td>189.8</td>\n",
       "      <td>3.600</td>\n",
       "      <td>21.1</td>\n",
       "      <td>24.0</td>\n",
       "      <td>85.735655</td>\n",
       "      <td>1</td>\n",
       "    </tr>\n",
       "  </tbody>\n",
       "</table>\n",
       "<p>157 rows × 13 columns</p>\n",
       "</div>"
      ],
      "text/plain": [
       "     Sales_in_thousands  four_year_resale_value  Price_in_thousands  \\\n",
       "0                16.919                  16.360              21.500   \n",
       "1                39.384                  19.875              28.400   \n",
       "2                14.114                  18.225              22.799   \n",
       "3                 8.588                  29.725              42.000   \n",
       "4                20.397                  22.255              23.990   \n",
       "..                  ...                     ...                 ...   \n",
       "152               3.545                  14.180              24.400   \n",
       "153              15.245                  14.180              27.500   \n",
       "154              17.531                  14.180              28.800   \n",
       "155               3.493                  14.180              45.500   \n",
       "156              18.969                  14.180              36.000   \n",
       "\n",
       "     Engine_size  Horsepower  Wheelbase  Width  Length  Curb weight  \\\n",
       "0            1.8       140.0      101.2   67.3   172.4        2.639   \n",
       "1            3.2       225.0      108.1   70.3   192.9        3.517   \n",
       "2            3.2       225.0      106.9   70.6   192.0        3.470   \n",
       "3            3.5       210.0      114.6   71.4   196.6        3.850   \n",
       "4            1.8       150.0      102.6   68.2   178.0        2.998   \n",
       "..           ...         ...        ...    ...     ...          ...   \n",
       "152          1.9       160.0      100.5   67.6   176.6        3.042   \n",
       "153          2.4       168.0      104.9   69.3   185.9        3.208   \n",
       "154          2.4       168.0      104.9   69.3   186.2        3.259   \n",
       "155          2.3       236.0      104.9   71.5   185.7        3.601   \n",
       "156          2.9       201.0      109.9   72.1   189.8        3.600   \n",
       "\n",
       "     Fuel_capacity  Fuel_efficiency  Power_perf_factor  Vehicle_type_Passenger  \n",
       "0             13.2             28.0          58.280150                       1  \n",
       "1             17.2             25.0          91.370778                       1  \n",
       "2             17.2             26.0          72.030917                       1  \n",
       "3             18.0             22.0          91.389779                       1  \n",
       "4             16.4             27.0          62.777639                       1  \n",
       "..             ...              ...                ...                     ...  \n",
       "152           15.8             25.0          66.498812                       1  \n",
       "153           17.9             25.0          70.654495                       1  \n",
       "154           17.9             25.0          71.155978                       1  \n",
       "155           18.5             23.0         101.623357                       1  \n",
       "156           21.1             24.0          85.735655                       1  \n",
       "\n",
       "[157 rows x 13 columns]"
      ]
     },
     "execution_count": 60,
     "metadata": {},
     "output_type": "execute_result"
    }
   ],
   "source": [
    "veh2"
   ]
  },
  {
   "cell_type": "markdown",
   "id": "27132039",
   "metadata": {},
   "source": [
    "## Assumptions Check"
   ]
  },
  {
   "cell_type": "code",
   "execution_count": 61,
   "id": "849523dd",
   "metadata": {},
   "outputs": [
    {
     "name": "stderr",
     "output_type": "stream",
     "text": [
      "C:\\Users\\Archit\\anaconda3\\lib\\site-packages\\seaborn\\distributions.py:2619: FutureWarning: `distplot` is a deprecated function and will be removed in a future version. Please adapt your code to use either `displot` (a figure-level function with similar flexibility) or `histplot` (an axes-level function for histograms).\n",
      "  warnings.warn(msg, FutureWarning)\n"
     ]
    },
    {
     "data": {
      "image/png": "[encoded data removed]",
      "text/plain": [
       "<Figure size 432x288 with 1 Axes>"
      ]
     },
     "metadata": {
      "needs_background": "light"
     },
     "output_type": "display_data"
    }
   ],
   "source": [
    "sns.distplot(veh2[\"Sales_in_thousands\"])\n",
    "plt.show()"
   ]
  },
  {
   "cell_type": "code",
   "execution_count": 62,
   "id": "f9eba988",
   "metadata": {},
   "outputs": [
    {
     "name": "stderr",
     "output_type": "stream",
     "text": [
      "C:\\Users\\Archit\\anaconda3\\lib\\site-packages\\seaborn\\distributions.py:2619: FutureWarning: `distplot` is a deprecated function and will be removed in a future version. Please adapt your code to use either `displot` (a figure-level function with similar flexibility) or `histplot` (an axes-level function for histograms).\n",
      "  warnings.warn(msg, FutureWarning)\n"
     ]
    },
    {
     "data": {
      "image/png": "[encoded data removed]",
      "text/plain": [
       "<Figure size 432x288 with 1 Axes>"
      ]
     },
     "metadata": {
      "needs_background": "light"
     },
     "output_type": "display_data"
    }
   ],
   "source": [
    "sns.distplot(np.sqrt(veh2[\"Sales_in_thousands\"]))\n",
    "plt.show()"
   ]
  },
  {
   "cell_type": "code",
   "execution_count": 63,
   "id": "dd63326d",
   "metadata": {},
   "outputs": [
    {
     "name": "stderr",
     "output_type": "stream",
     "text": [
      "C:\\Users\\Archit\\anaconda3\\lib\\site-packages\\seaborn\\distributions.py:2619: FutureWarning: `distplot` is a deprecated function and will be removed in a future version. Please adapt your code to use either `displot` (a figure-level function with similar flexibility) or `histplot` (an axes-level function for histograms).\n",
      "  warnings.warn(msg, FutureWarning)\n"
     ]
    },
    {
     "data": {
      "image/png": "[encoded data removed]",
      "text/plain": [
       "<Figure size 432x288 with 1 Axes>"
      ]
     },
     "metadata": {
      "needs_background": "light"
     },
     "output_type": "display_data"
    }
   ],
   "source": [
    "sns.distplot(np.log1p(veh2[\"Sales_in_thousands\"]))\n",
    "plt.show()"
   ]
  },
  {
   "cell_type": "code",
   "execution_count": 64,
   "id": "4b4a969d",
   "metadata": {},
   "outputs": [],
   "source": [
    "from scipy import stats\n"
   ]
  },
  {
   "cell_type": "code",
   "execution_count": 65,
   "id": "7abe4839",
   "metadata": {},
   "outputs": [
    {
     "data": {
      "text/plain": [
       "ShapiroResult(statistic=0.7553695440292358, pvalue=6.8788528204740546e-15)"
      ]
     },
     "execution_count": 65,
     "metadata": {},
     "output_type": "execute_result"
    }
   ],
   "source": [
    "stats.shapiro(veh2[\"Sales_in_thousands\"])"
   ]
  },
  {
   "cell_type": "code",
   "execution_count": 66,
   "id": "a21dacec",
   "metadata": {},
   "outputs": [
    {
     "data": {
      "text/plain": [
       "ShapiroResult(statistic=0.9356848001480103, pvalue=1.5604725831508404e-06)"
      ]
     },
     "execution_count": 66,
     "metadata": {},
     "output_type": "execute_result"
    }
   ],
   "source": [
    "stats.shapiro(np.sqrt(veh2[\"Sales_in_thousands\"]))"
   ]
  },
  {
   "cell_type": "code",
   "execution_count": 67,
   "id": "f4dad5cd",
   "metadata": {},
   "outputs": [
    {
     "data": {
      "text/plain": [
       "ShapiroResult(statistic=0.983066737651825, pvalue=0.051543984562158585)"
      ]
     },
     "execution_count": 67,
     "metadata": {},
     "output_type": "execute_result"
    }
   ],
   "source": [
    "stats.shapiro(np.log1p(veh2[\"Sales_in_thousands\"]))"
   ]
  },
  {
   "cell_type": "code",
   "execution_count": 68,
   "id": "e660a280",
   "metadata": {},
   "outputs": [],
   "source": [
    "cr=veh2.corr()\n",
    "cr.to_csv(\"cr.csv\")"
   ]
  },
  {
   "cell_type": "code",
   "execution_count": 69,
   "id": "707f8ef4",
   "metadata": {},
   "outputs": [
    {
     "data": {
      "image/png": "[encoded data removed]",
      "text/plain": [
       "<Figure size 720x432 with 2 Axes>"
      ]
     },
     "metadata": {
      "needs_background": "light"
     },
     "output_type": "display_data"
    }
   ],
   "source": [
    "plt.figure(figsize=(10,6))\n",
    "sns.heatmap(cr, annot=True, cmap=\"coolwarm\")\n",
    "plt.show()"
   ]
  },
  {
   "cell_type": "code",
   "execution_count": 70,
   "id": "4331be3d",
   "metadata": {},
   "outputs": [],
   "source": [
    "y=np.log1p(veh2[\"Sales_in_thousands\"])\n",
    "x=veh2.drop([\"Sales_in_thousands\"], axis=1)"
   ]
  },
  {
   "cell_type": "code",
   "execution_count": 71,
   "id": "55cb4da4",
   "metadata": {},
   "outputs": [],
   "source": [
    "from sklearn.model_selection import train_test_split"
   ]
  },
  {
   "cell_type": "code",
   "execution_count": 72,
   "id": "9d96e485",
   "metadata": {},
   "outputs": [],
   "source": [
    "x_train, x_test ,y_train, y_test=train_test_split(x,y, test_size=.25, random_state=5)"
   ]
  },
  {
   "cell_type": "code",
   "execution_count": 73,
   "id": "06cab330",
   "metadata": {},
   "outputs": [
    {
     "name": "stderr",
     "output_type": "stream",
     "text": [
      "C:\\Users\\Archit\\anaconda3\\lib\\site-packages\\statsmodels\\compat\\pandas.py:61: FutureWarning: pandas.Int64Index is deprecated and will be removed from pandas in a future version. Use pandas.Index with the appropriate dtype instead.\n",
      "  from pandas import Int64Index as NumericIndex\n"
     ]
    },
    {
     "name": "stdout",
     "output_type": "stream",
     "text": [
      "                            OLS Regression Results                            \n",
      "==============================================================================\n",
      "Dep. Variable:     Sales_in_thousands   R-squared:                       0.504\n",
      "Model:                            OLS   Adj. R-squared:                  0.447\n",
      "Method:                 Least Squares   F-statistic:                     8.815\n",
      "Date:                Mon, 21 Mar 2022   Prob (F-statistic):           2.14e-11\n",
      "Time:                        11:46:23   Log-Likelihood:                -145.73\n",
      "No. Observations:                 117   AIC:                             317.5\n",
      "Df Residuals:                     104   BIC:                             353.4\n",
      "Df Model:                          12                                         \n",
      "Covariance Type:            nonrobust                                         \n",
      "==========================================================================================\n",
      "                             coef    std err          t      P>|t|      [0.025      0.975]\n",
      "------------------------------------------------------------------------------------------\n",
      "const                     -6.0384      2.885     -2.093      0.039     -11.760      -0.317\n",
      "four_year_resale_value     0.0208      0.014      1.452      0.149      -0.008       0.049\n",
      "Price_in_thousands        -0.0692      0.026     -2.643      0.009      -0.121      -0.017\n",
      "Engine_size                0.4001      0.210      1.908      0.059      -0.016       0.816\n",
      "Horsepower                -0.0196      0.018     -1.106      0.271      -0.055       0.016\n",
      "Wheelbase                  0.0427      0.025      1.694      0.093      -0.007       0.093\n",
      "Width                      0.0209      0.044      0.480      0.632      -0.066       0.107\n",
      "Length                     0.0071      0.014      0.492      0.624      -0.022       0.036\n",
      "Curb weight               -0.0505      0.396     -0.128      0.899      -0.836       0.735\n",
      "Fuel_capacity              0.0026      0.053      0.049      0.961      -0.102       0.107\n",
      "Fuel_efficiency            0.1314      0.050      2.618      0.010       0.032       0.231\n",
      "Power_perf_factor          0.0469      0.050      0.935      0.352      -0.053       0.146\n",
      "Vehicle_type_Passenger    -0.8686      0.340     -2.551      0.012      -1.544      -0.193\n",
      "==============================================================================\n",
      "Omnibus:                       10.087   Durbin-Watson:                   2.028\n",
      "Prob(Omnibus):                  0.006   Jarque-Bera (JB):               11.383\n",
      "Skew:                          -0.543   Prob(JB):                      0.00337\n",
      "Kurtosis:                       4.075   Cond. No.                     1.08e+04\n",
      "==============================================================================\n",
      "\n",
      "Notes:\n",
      "[1] Standard Errors assume that the covariance matrix of the errors is correctly specified.\n",
      "[2] The condition number is large, 1.08e+04. This might indicate that there are\n",
      "strong multicollinearity or other numerical problems.\n"
     ]
    }
   ],
   "source": [
    "import statsmodels.api as sm  \n",
    "\n",
    "X = x_train[['four_year_resale_value',\n",
    "             'Price_in_thousands', \n",
    "             'Engine_size',\n",
    "       'Horsepower', \n",
    "             'Wheelbase', \n",
    "             'Width',\n",
    "             'Length', \n",
    "             'Curb weight',\n",
    "       'Fuel_capacity',\n",
    "             'Fuel_efficiency', \n",
    "             'Power_perf_factor',\n",
    "       'Vehicle_type_Passenger'\n",
    "        ]]\n",
    "\n",
    "Y = y_train\n",
    "\n",
    "X = sm.add_constant(X) # adding a constant\n",
    "\n",
    "\n",
    "\n",
    "model = sm.OLS(Y, X).fit()\n",
    "\n",
    "\n",
    "\n",
    "print(model.summary())"
   ]
  },
  {
   "cell_type": "code",
   "execution_count": 74,
   "id": "4d44e2d4",
   "metadata": {},
   "outputs": [],
   "source": [
    "# Linear Regression \n",
    "# Null Hyp  : coef of x1=coef of x2 =coef of x3.........=0 (w1=w2=w3=...0) \" y does not depend on any var (xi)\"\n",
    "# Alternative Hyp : atleast one of coef ( wi ) is not zero  \" Y does depend on atleast on var(xi)\"\n",
    "\n",
    "#  t test \n",
    "# Alpha .05\n",
    "# "
   ]
  },
  {
   "cell_type": "code",
   "execution_count": 75,
   "id": "4116988a",
   "metadata": {},
   "outputs": [
    {
     "name": "stdout",
     "output_type": "stream",
     "text": [
      "                            OLS Regression Results                            \n",
      "==============================================================================\n",
      "Dep. Variable:     Sales_in_thousands   R-squared:                       0.482\n",
      "Model:                            OLS   Adj. R-squared:                  0.459\n",
      "Method:                 Least Squares   F-statistic:                     20.70\n",
      "Date:                Mon, 21 Mar 2022   Prob (F-statistic):           1.47e-14\n",
      "Time:                        11:46:23   Log-Likelihood:                -148.24\n",
      "No. Observations:                 117   AIC:                             308.5\n",
      "Df Residuals:                     111   BIC:                             325.1\n",
      "Df Model:                           5                                         \n",
      "Covariance Type:            nonrobust                                         \n",
      "==========================================================================================\n",
      "                             coef    std err          t      P>|t|      [0.025      0.975]\n",
      "------------------------------------------------------------------------------------------\n",
      "const                     -4.4517      1.949     -2.284      0.024      -8.314      -0.589\n",
      "Price_in_thousands        -0.0463      0.008     -5.652      0.000      -0.063      -0.030\n",
      "Engine_size                0.3895      0.154      2.537      0.013       0.085       0.694\n",
      "Wheelbase                  0.0501      0.014      3.544      0.001       0.022       0.078\n",
      "Fuel_efficiency            0.1332      0.044      3.061      0.003       0.047       0.219\n",
      "Vehicle_type_Passenger    -0.8553      0.279     -3.069      0.003      -1.408      -0.303\n",
      "==============================================================================\n",
      "Omnibus:                        5.758   Durbin-Watson:                   2.030\n",
      "Prob(Omnibus):                  0.056   Jarque-Bera (JB):                5.362\n",
      "Skew:                          -0.413   Prob(JB):                       0.0685\n",
      "Kurtosis:                       3.647   Cond. No.                     2.71e+03\n",
      "==============================================================================\n",
      "\n",
      "Notes:\n",
      "[1] Standard Errors assume that the covariance matrix of the errors is correctly specified.\n",
      "[2] The condition number is large, 2.71e+03. This might indicate that there are\n",
      "strong multicollinearity or other numerical problems.\n"
     ]
    }
   ],
   "source": [
    "import statsmodels.api as sm  \n",
    "\n",
    "X = x_train[[\n",
    "#     'four_year_resale_value',\n",
    "             'Price_in_thousands', \n",
    "             'Engine_size',\n",
    "#        'Horsepower', \n",
    "             'Wheelbase', \n",
    "#              'Width',\n",
    "#              'Length', \n",
    "#              'Curb weight',\n",
    "#        'Fuel_capacity',\n",
    "             'Fuel_efficiency', \n",
    "#              'Power_perf_factor',\n",
    "       'Vehicle_type_Passenger'\n",
    "        ]]\n",
    "Y = y_train\n",
    "X = sm.add_constant(X) # adding a constant\n",
    "model = sm.OLS(Y, X).fit()\n",
    "print(model.summary())"
   ]
  },
  {
   "cell_type": "code",
   "execution_count": 77,
   "id": "cbf1fef8",
   "metadata": {},
   "outputs": [],
   "source": [
    "predY=np.exp(x_train[\"Price_in_thousands\"]*(-0.0463)+x_train[\"Engine_size\"]*(0.3895)+x_train[\"Wheelbase\"]*(0.0501)+x_train[\"Fuel_efficiency\"]*(0.1332)+x_train[\"Vehicle_type_Passenger\"]*(-0.8553)-4.4517)-1"
   ]
  },
  {
   "cell_type": "code",
   "execution_count": 97,
   "id": "15c5a1f8",
   "metadata": {},
   "outputs": [
    {
     "data": {
      "text/plain": [
       "10     38.405583\n",
       "142    48.218797\n",
       "120    28.855139\n",
       "139    47.049297\n",
       "36     22.977994\n",
       "         ...    \n",
       "8      15.605102\n",
       "73      8.996035\n",
       "144    12.506399\n",
       "118    30.157874\n",
       "99      1.821335\n",
       "Length: 117, dtype: float64"
      ]
     },
     "execution_count": 97,
     "metadata": {},
     "output_type": "execute_result"
    }
   ],
   "source": [
    "predY"
   ]
  },
  {
   "cell_type": "code",
   "execution_count": 82,
   "id": "86291d17",
   "metadata": {},
   "outputs": [],
   "source": [
    "ActY=np.expm1(y_train)  # reverse of log1p is np.expm1 or np.exp(y)-1"
   ]
  },
  {
   "cell_type": "code",
   "execution_count": 86,
   "id": "eb574fc0",
   "metadata": {},
   "outputs": [
    {
     "name": "stdout",
     "output_type": "stream",
     "text": [
      "MSE 2577.0720816007392\n",
      "RMSE 50.76487054647868\n",
      "Mean Absolute Error(mae) 29.298450307472475\n",
      "Mean absolute Percentage Error(MAPE) 1.8785630475157793\n"
     ]
    }
   ],
   "source": [
    "# Evaluataion of model\n",
    "# MSE\n",
    "print(\"MSE\", np.mean((predY-ActY)**2))\n",
    "\n",
    "print(\"RMSE\", np.sqrt(np.mean((predY-ActY)**2)))\n",
    "\n",
    "print(\"Mean Absolute Error(mae)\", np.mean(abs(predY-ActY)))\n",
    "\n",
    "print(\"Mean absolute Percentage Error(MAPE)\", np.mean(abs((ActY-predY)/ActY)))"
   ]
  },
  {
   "cell_type": "code",
   "execution_count": 88,
   "id": "dcb0c5cf",
   "metadata": {},
   "outputs": [
    {
     "name": "stdout",
     "output_type": "stream",
     "text": [
      "MSE 2282.597210166002\n",
      "RMSE 47.77653409536947\n",
      "Mean Absolute Error(mae) 30.812164682395746\n",
      "Mean absolute Percentage Error(MAPE) 0.8148137997293528\n"
     ]
    }
   ],
   "source": [
    "predYtest=np.exp(x_test[\"Price_in_thousands\"]*(-0.0463)+x_test[\"Engine_size\"]*(0.3895)+x_test[\"Wheelbase\"]*(0.0501)+x_test[\"Fuel_efficiency\"]*(0.1332)+x_test[\"Vehicle_type_Passenger\"]*(-0.8553)-4.4517)-1\n",
    "\n",
    "ActYtest=np.expm1(y_test)  # reverse of log1p is np.expm1 or np.exp(y)-1\n",
    "\n",
    "# Evaluataion of model\n",
    "# MSE\n",
    "print(\"MSE\", np.mean((predYtest-ActYtest)**2))\n",
    "\n",
    "print(\"RMSE\", np.sqrt(np.mean((predYtest-ActYtest)**2)))\n",
    "\n",
    "print(\"Mean Absolute Error(mae)\", np.mean(abs(predYtest-ActYtest)))\n",
    "\n",
    "print(\"Mean absolute Percentage Error(MAPE)\", np.mean(abs((ActYtest-predYtest)/ActYtest)))"
   ]
  },
  {
   "cell_type": "code",
   "execution_count": 92,
   "id": "f9e3ffe9",
   "metadata": {},
   "outputs": [],
   "source": [
    "col_selected=['Price_in_thousands', 'Engine_size','Wheelbase', 'Fuel_efficiency','Vehicle_type_Passenger']\n",
    "x_train1=x_train[col_selected]\n",
    "x = sm.add_constant(x_train1) "
   ]
  },
  {
   "cell_type": "code",
   "execution_count": 98,
   "id": "c1ed988a",
   "metadata": {},
   "outputs": [],
   "source": [
    "predYTrain=np.expm1(model.predict(x)) "
   ]
  },
  {
   "cell_type": "code",
   "execution_count": 99,
   "id": "4cdab59b",
   "metadata": {},
   "outputs": [],
   "source": [
    "actYTrain=np.expm1(y_train)"
   ]
  },
  {
   "cell_type": "markdown",
   "id": "e795a87d",
   "metadata": {},
   "source": [
    "## Linear Regression based on SKlearn Package"
   ]
  },
  {
   "cell_type": "code",
   "execution_count": 100,
   "id": "272a86a6",
   "metadata": {},
   "outputs": [],
   "source": [
    "y=np.log1p(veh2[\"Sales_in_thousands\"])\n",
    "x=veh2.drop([\"Sales_in_thousands\"], axis=1)\n"
   ]
  },
  {
   "cell_type": "code",
   "execution_count": null,
   "id": "d7ecf14f",
   "metadata": {},
   "outputs": [],
   "source": [
    "# Important Variable Selection\n",
    "# Statistical Hypothesis ( t test, anova, chisquare etc.)\n",
    "# Corr \n",
    "# VIF\n",
    "# Statistical methods ( SelectKbest, etc..)\n",
    "# Advanced Methods ( DT, L1 , L2 peanlty, Other methds)"
   ]
  },
  {
   "cell_type": "code",
   "execution_count": 101,
   "id": "021a9ac2",
   "metadata": {},
   "outputs": [],
   "source": [
    "from sklearn.model_selection import train_test_split\n",
    "from sklearn.linear_model import LinearRegression\n",
    "from sklearn import metrics"
   ]
  },
  {
   "cell_type": "code",
   "execution_count": 102,
   "id": "cf9c4f31",
   "metadata": {},
   "outputs": [],
   "source": [
    "x_train, x_test, y_train, y_test=train_test_split(x,y,test_size=.25, random_state=88)"
   ]
  },
  {
   "cell_type": "code",
   "execution_count": 116,
   "id": "213ebfe3",
   "metadata": {},
   "outputs": [
    {
     "data": {
      "text/plain": [
       "(117, 12)"
      ]
     },
     "execution_count": 116,
     "metadata": {},
     "output_type": "execute_result"
    }
   ],
   "source": [
    "x_train.shape"
   ]
  },
  {
   "cell_type": "code",
   "execution_count": 103,
   "id": "2d4502e5",
   "metadata": {},
   "outputs": [],
   "source": [
    "lr=LinearRegression()"
   ]
  },
  {
   "cell_type": "code",
   "execution_count": 109,
   "id": "9ddd211e",
   "metadata": {},
   "outputs": [
    {
     "data": {
      "text/plain": [
       "0.5198568528915677"
      ]
     },
     "execution_count": 109,
     "metadata": {},
     "output_type": "execute_result"
    }
   ],
   "source": [
    "lr.fit(x_train, y_train)\n",
    "lr.score(x_train, y_train)"
   ]
  },
  {
   "cell_type": "code",
   "execution_count": 108,
   "id": "0fc64dc1",
   "metadata": {},
   "outputs": [],
   "source": [
    "train_pred=np.expm1(lr.predict(x_train))\n",
    "test_pred=np.expm1(lr.predict(x_test))"
   ]
  },
  {
   "cell_type": "code",
   "execution_count": 110,
   "id": "144e7778",
   "metadata": {},
   "outputs": [
    {
     "data": {
      "text/plain": [
       "array([ 0.02720914,  2.78618971,  2.23835501,  2.60728065,  0.03028148,\n",
       "        0.01482713,  0.01124419,  0.32200549, -0.04114881,  0.12708699,\n",
       "       -7.37618893, -0.85839777])"
      ]
     },
     "execution_count": 110,
     "metadata": {},
     "output_type": "execute_result"
    }
   ],
   "source": [
    "lr.coef_"
   ]
  },
  {
   "cell_type": "code",
   "execution_count": 111,
   "id": "515b234a",
   "metadata": {},
   "outputs": [
    {
     "data": {
      "text/plain": [
       "Index(['four_year_resale_value', 'Price_in_thousands', 'Engine_size',\n",
       "       'Horsepower', 'Wheelbase', 'Width', 'Length', 'Curb weight',\n",
       "       'Fuel_capacity', 'Fuel_efficiency', 'Power_perf_factor',\n",
       "       'Vehicle_type_Passenger'],\n",
       "      dtype='object')"
      ]
     },
     "execution_count": 111,
     "metadata": {},
     "output_type": "execute_result"
    }
   ],
   "source": [
    "x_train.columns"
   ]
  },
  {
   "cell_type": "code",
   "execution_count": 112,
   "id": "9da0ec69",
   "metadata": {},
   "outputs": [
    {
     "data": {
      "text/plain": [
       "-5.2712485317684035"
      ]
     },
     "execution_count": 112,
     "metadata": {},
     "output_type": "execute_result"
    }
   ],
   "source": [
    "lr.intercept_  # c value"
   ]
  },
  {
   "cell_type": "code",
   "execution_count": 113,
   "id": "120aad14",
   "metadata": {},
   "outputs": [],
   "source": [
    "ActualY_train=np.expm1(y_train)\n",
    "ActualY_test=np.expm1(y_test)"
   ]
  },
  {
   "cell_type": "code",
   "execution_count": 114,
   "id": "dbf07f42",
   "metadata": {},
   "outputs": [
    {
     "name": "stdout",
     "output_type": "stream",
     "text": [
      "MSE 2374.909433126223\n"
     ]
    }
   ],
   "source": [
    "print(\"MSE\", np.mean((ActualY_train-predYTrain)**2))\n"
   ]
  },
  {
   "cell_type": "code",
   "execution_count": 128,
   "id": "f359e4c6",
   "metadata": {},
   "outputs": [
    {
     "data": {
      "text/plain": [
       "83       0.110\n",
       "93      27.602\n",
       "11      39.350\n",
       "29      32.775\n",
       "136    142.535\n",
       "        ...   \n",
       "62      41.184\n",
       "101     42.643\n",
       "148      9.569\n",
       "106     54.158\n",
       "32      13.462\n",
       "Name: Sales_in_thousands, Length: 117, dtype: float64"
      ]
     },
     "execution_count": 128,
     "metadata": {},
     "output_type": "execute_result"
    }
   ],
   "source": [
    "ActualY_train"
   ]
  },
  {
   "cell_type": "code",
   "execution_count": 133,
   "id": "1bbf425a",
   "metadata": {},
   "outputs": [],
   "source": [
    "act_pred=pd.DataFrame({\"ActSale\":ActualY_train, \"Pred\":train_pred})"
   ]
  },
  {
   "cell_type": "code",
   "execution_count": 138,
   "id": "dfead9a0",
   "metadata": {},
   "outputs": [
    {
     "data": {
      "text/plain": [
       "<AxesSubplot:>"
      ]
     },
     "execution_count": 138,
     "metadata": {},
     "output_type": "execute_result"
    },
    {
     "data": {
      "image/png": "[encoded data removed]",
      "text/plain": [
       "<Figure size 432x288 with 1 Axes>"
      ]
     },
     "metadata": {
      "needs_background": "light"
     },
     "output_type": "display_data"
    }
   ],
   "source": [
    "act_pred.head(20).plot(kind=\"bar\")"
   ]
  },
  {
   "cell_type": "code",
   "execution_count": null,
   "id": "fe0a94c7",
   "metadata": {},
   "outputs": [],
   "source": []
  }
 ],
 "metadata": {
  "kernelspec": {
   "display_name": "Python 3 (ipykernel)",
   "language": "python",
   "name": "python3"
  },
  "language_info": {
   "codemirror_mode": {
    "name": "ipython",
    "version": 3
   },
   "file_extension": ".py",
   "mimetype": "text/x-python",
   "name": "python",
   "nbconvert_exporter": "python",
   "pygments_lexer": "ipython3",
   "version": "3.8.5"
  }
 },
 "nbformat": 4,
 "nbformat_minor": 5
}
